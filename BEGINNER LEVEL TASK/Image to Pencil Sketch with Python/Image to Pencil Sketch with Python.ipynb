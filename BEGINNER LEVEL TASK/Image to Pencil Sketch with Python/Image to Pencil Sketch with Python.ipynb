{
 "cells": [
  {
   "cell_type": "code",
   "execution_count": 1,
   "id": "d203e92f",
   "metadata": {},
   "outputs": [],
   "source": [
    "# Importing Libraries\n",
    "import cv2"
   ]
  },
  {
   "cell_type": "code",
   "execution_count": null,
   "id": "81d3cdcf",
   "metadata": {},
   "outputs": [],
   "source": [
    "# Reading the original image\n",
    "image = cv2.imread('D:\\Shriraj\\INTERNSHIP\\LetsGrowMore Internship\\Ganesh.jpg')\n",
    "# Displaying Original Image\n",
    "cv2.imshow(\"Original Image\", image)\n",
    "cv2.waitKey(0)"
   ]
  },
  {
   "cell_type": "code",
   "execution_count": null,
   "id": "7e6aa2ff",
   "metadata": {},
   "outputs": [],
   "source": [
    "# Reading the black and white image\n",
    "b_and_w_image = cv2.cvtColor(image, cv2.COLOR_BGR2GRAY)\n",
    "# Displaying Black And White Image\n",
    "cv2.imshow(\"Black and White Image\", b_and_w_image)\n",
    "cv2.waitKey(0)"
   ]
  },
  {
   "cell_type": "code",
   "execution_count": null,
   "id": "12018395",
   "metadata": {},
   "outputs": [],
   "source": [
    "# Inverting the image\n",
    "inverted_image = 255 - b_and_w_image\n",
    "# Displaying Inverted Image\n",
    "cv2.imshow(\"Inverted Image\", inverted_image)\n",
    "cv2.waitKey()"
   ]
  },
  {
   "cell_type": "code",
   "execution_count": null,
   "id": "a76fe829",
   "metadata": {},
   "outputs": [],
   "source": [
    "# Blurring the image\n",
    "blurred = cv2.GaussianBlur(inverted_image, (21, 21), 0)"
   ]
  },
  {
   "cell_type": "code",
   "execution_count": null,
   "id": "b85ebda7",
   "metadata": {},
   "outputs": [],
   "source": [
    "# Inverting the Blurred Image\n",
    "inverted_blurred = 255 - blurred\n",
    "# Creating the Pencil Sketch image\n",
    "pencil_sketch = cv2.divide(b_and_w_image, inverted_blurred, scale=256.0)\n",
    "# Displaying Sketch Image\n",
    "cv2.imshow(\"Sketch Image\", pencil_sketch)\n",
    "cv2.waitKey(0)"
   ]
  },
  {
   "cell_type": "code",
   "execution_count": null,
   "id": "1baf50be",
   "metadata": {},
   "outputs": [],
   "source": [
    "# Displaying Original Image\n",
    "cv2.imshow(\"Original Image\", image)\n",
    "# Displaying Sketch Image\n",
    "cv2.imshow(\"Pencil Sketch Image\", pencil_sketch)\n",
    "cv2.waitKey(0)"
   ]
  }
 ],
 "metadata": {
  "kernelspec": {
   "display_name": "Python 3 (ipykernel)",
   "language": "python",
   "name": "python3"
  },
  "language_info": {
   "codemirror_mode": {
    "name": "ipython",
    "version": 3
   },
   "file_extension": ".py",
   "mimetype": "text/x-python",
   "name": "python",
   "nbconvert_exporter": "python",
   "pygments_lexer": "ipython3",
   "version": "3.10.6"
  }
 },
 "nbformat": 4,
 "nbformat_minor": 5
}
